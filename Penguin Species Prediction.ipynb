{
 "cells": [
  {
   "cell_type": "markdown",
   "id": "f9f1fe4c",
   "metadata": {},
   "source": [
    "# Penguin Species Prediction"
   ]
  },
  {
   "cell_type": "markdown",
   "id": "d8ddcc24",
   "metadata": {},
   "source": [
    "I try to create the best model whether using Naive Bayes or KNN from the given the dataset 'penguin.csv' to predict penguin species from anatomical information. Each penguin comes from one of three species: Adelie, Gento, and Chinstrap. The anatomical information contained in the dataset is described as follows:   \n",
    "- island a factor denoting island in Palmer Archipelago, Antarctica (Biscoe, Dream or Torgersen)  \n",
    "- bill_length_mm a number denoting bill length (millimeters)  \n",
    "- bill_depth_mm a number denoting bill depth (millimeters)  \n",
    "- flipper_length_mm an integer denoting flipper length (millimeters)  \n",
    "- body_mass_g an integer denoting body mass (grams)  \n",
    "- sex a factor denoting penguin sex (female, male) \n",
    "  \n",
    "  "
   ]
  },
  {
   "cell_type": "markdown",
   "id": "1a7f706d",
   "metadata": {},
   "source": [
    "## Step 1: Import Libraries"
   ]
  },
  {
   "cell_type": "code",
   "execution_count": 1,
   "id": "e71a4661",
   "metadata": {},
   "outputs": [],
   "source": [
    "import pandas as pd\n",
    "import numpy as np\n",
    "import matplotlib.pyplot as plt\n",
    "import seaborn as sns"
   ]
  },
  {
   "cell_type": "markdown",
   "id": "9b58041e",
   "metadata": {},
   "source": [
    "## Step 2: Collect and pre-process the data"
   ]
  },
  {
   "cell_type": "code",
   "execution_count": 5,
   "id": "e8bc5538",
   "metadata": {},
   "outputs": [
    {
     "data": {
      "text/html": [
       "<div>\n",
       "<style scoped>\n",
       "    .dataframe tbody tr th:only-of-type {\n",
       "        vertical-align: middle;\n",
       "    }\n",
       "\n",
       "    .dataframe tbody tr th {\n",
       "        vertical-align: top;\n",
       "    }\n",
       "\n",
       "    .dataframe thead th {\n",
       "        text-align: right;\n",
       "    }\n",
       "</style>\n",
       "<table border=\"1\" class=\"dataframe\">\n",
       "  <thead>\n",
       "    <tr style=\"text-align: right;\">\n",
       "      <th></th>\n",
       "      <th>island</th>\n",
       "      <th>sex</th>\n",
       "      <th>culmen_length_mm</th>\n",
       "      <th>culmen_depth_mm</th>\n",
       "      <th>flipper_length_mm</th>\n",
       "      <th>body_mass_g</th>\n",
       "      <th>species</th>\n",
       "    </tr>\n",
       "  </thead>\n",
       "  <tbody>\n",
       "    <tr>\n",
       "      <th>0</th>\n",
       "      <td>Biscoe</td>\n",
       "      <td>MALE</td>\n",
       "      <td>41.3</td>\n",
       "      <td>21.1</td>\n",
       "      <td>195.0</td>\n",
       "      <td>4400.0</td>\n",
       "      <td>Adelie</td>\n",
       "    </tr>\n",
       "    <tr>\n",
       "      <th>1</th>\n",
       "      <td>Biscoe</td>\n",
       "      <td>FEMALE</td>\n",
       "      <td>39.6</td>\n",
       "      <td>20.7</td>\n",
       "      <td>191.0</td>\n",
       "      <td>3900.0</td>\n",
       "      <td>Adelie</td>\n",
       "    </tr>\n",
       "    <tr>\n",
       "      <th>2</th>\n",
       "      <td>Biscoe</td>\n",
       "      <td>MALE</td>\n",
       "      <td>45.6</td>\n",
       "      <td>20.3</td>\n",
       "      <td>191.0</td>\n",
       "      <td>4600.0</td>\n",
       "      <td>Adelie</td>\n",
       "    </tr>\n",
       "    <tr>\n",
       "      <th>3</th>\n",
       "      <td>Biscoe</td>\n",
       "      <td>MALE</td>\n",
       "      <td>41.0</td>\n",
       "      <td>20.0</td>\n",
       "      <td>203.0</td>\n",
       "      <td>4725.0</td>\n",
       "      <td>Adelie</td>\n",
       "    </tr>\n",
       "    <tr>\n",
       "      <th>4</th>\n",
       "      <td>Biscoe</td>\n",
       "      <td>MALE</td>\n",
       "      <td>38.2</td>\n",
       "      <td>20.0</td>\n",
       "      <td>190.0</td>\n",
       "      <td>3900.0</td>\n",
       "      <td>Adelie</td>\n",
       "    </tr>\n",
       "  </tbody>\n",
       "</table>\n",
       "</div>"
      ],
      "text/plain": [
       "   island     sex  culmen_length_mm  culmen_depth_mm  flipper_length_mm  \\\n",
       "0  Biscoe    MALE              41.3             21.1              195.0   \n",
       "1  Biscoe  FEMALE              39.6             20.7              191.0   \n",
       "2  Biscoe    MALE              45.6             20.3              191.0   \n",
       "3  Biscoe    MALE              41.0             20.0              203.0   \n",
       "4  Biscoe    MALE              38.2             20.0              190.0   \n",
       "\n",
       "   body_mass_g species  \n",
       "0       4400.0  Adelie  \n",
       "1       3900.0  Adelie  \n",
       "2       4600.0  Adelie  \n",
       "3       4725.0  Adelie  \n",
       "4       3900.0  Adelie  "
      ]
     },
     "execution_count": 5,
     "metadata": {},
     "output_type": "execute_result"
    }
   ],
   "source": [
    "pengu=pd.read_csv(\"penguin.csv\")\n",
    "pengu2=pengu.copy(deep=True)\n",
    "\n",
    "pengu.sample(n=8, random_state=42).sort_index()\n",
    "\n",
    "pengu.head()"
   ]
  },
  {
   "cell_type": "code",
   "execution_count": 6,
   "id": "868aa3b2",
   "metadata": {},
   "outputs": [
    {
     "data": {
      "text/plain": [
       "(294, 7)"
      ]
     },
     "execution_count": 6,
     "metadata": {},
     "output_type": "execute_result"
    }
   ],
   "source": [
    "pengu.shape"
   ]
  },
  {
   "cell_type": "markdown",
   "id": "83698372",
   "metadata": {},
   "source": [
    "Dataset contains of total with 294 data and 7 features (include 1 target)"
   ]
  },
  {
   "cell_type": "code",
   "execution_count": 7,
   "id": "a7681dc3",
   "metadata": {},
   "outputs": [
    {
     "name": "stdout",
     "output_type": "stream",
     "text": [
      "<class 'pandas.core.frame.DataFrame'>\n",
      "RangeIndex: 294 entries, 0 to 293\n",
      "Data columns (total 7 columns):\n",
      " #   Column             Non-Null Count  Dtype  \n",
      "---  ------             --------------  -----  \n",
      " 0   island             294 non-null    object \n",
      " 1   sex                284 non-null    object \n",
      " 2   culmen_length_mm   292 non-null    float64\n",
      " 3   culmen_depth_mm    292 non-null    float64\n",
      " 4   flipper_length_mm  292 non-null    float64\n",
      " 5   body_mass_g        292 non-null    float64\n",
      " 6   species            294 non-null    object \n",
      "dtypes: float64(4), object(3)\n",
      "memory usage: 16.2+ KB\n"
     ]
    }
   ],
   "source": [
    "pengu.info()"
   ]
  },
  {
   "cell_type": "markdown",
   "id": "40356a32",
   "metadata": {},
   "source": [
    "3 of the features were categorical data and 4 of it were numerical data"
   ]
  },
  {
   "cell_type": "code",
   "execution_count": 8,
   "id": "0e4c34d4",
   "metadata": {},
   "outputs": [],
   "source": [
    "#Handle the categorical data\n",
    "feature_cat=pengu[[\"island\", \"sex\",\"species\"]]\n",
    "\n",
    "from sklearn.preprocessing import OrdinalEncoder\n",
    "ord_encoder=OrdinalEncoder()\n",
    "label_ord_encoder=OrdinalEncoder()\n",
    "feature_encoded=ord_encoder.fit_transform(feature_cat)\n",
    "\n",
    "pengu2[[\"island\", \"sex\",\"species\"]] = feature_encoded\n"
   ]
  },
  {
   "cell_type": "code",
   "execution_count": 9,
   "id": "3778b709",
   "metadata": {},
   "outputs": [
    {
     "name": "stdout",
     "output_type": "stream",
     "text": [
      "<class 'pandas.core.frame.DataFrame'>\n",
      "RangeIndex: 294 entries, 0 to 293\n",
      "Data columns (total 7 columns):\n",
      " #   Column             Non-Null Count  Dtype  \n",
      "---  ------             --------------  -----  \n",
      " 0   island             294 non-null    float64\n",
      " 1   sex                284 non-null    float64\n",
      " 2   culmen_length_mm   292 non-null    float64\n",
      " 3   culmen_depth_mm    292 non-null    float64\n",
      " 4   flipper_length_mm  292 non-null    float64\n",
      " 5   body_mass_g        292 non-null    float64\n",
      " 6   species            294 non-null    float64\n",
      "dtypes: float64(7)\n",
      "memory usage: 16.2 KB\n"
     ]
    }
   ],
   "source": [
    "pengu2.info()"
   ]
  },
  {
   "cell_type": "code",
   "execution_count": 10,
   "id": "a96881d9",
   "metadata": {
    "scrolled": true
   },
   "outputs": [
    {
     "data": {
      "text/plain": [
       "island              -0.619221\n",
       "sex                 -0.013880\n",
       "culmen_length_mm     0.736759\n",
       "culmen_depth_mm     -0.753634\n",
       "flipper_length_mm    0.858789\n",
       "body_mass_g          0.749267\n",
       "species              1.000000\n",
       "Name: species, dtype: float64"
      ]
     },
     "execution_count": 10,
     "metadata": {},
     "output_type": "execute_result"
    }
   ],
   "source": [
    "# Find the correlation between species and each features\n",
    "pengu2.corr()[\"species\"]"
   ]
  },
  {
   "cell_type": "markdown",
   "id": "6a326ff7",
   "metadata": {},
   "source": [
    "**sex** have **weak correlation** to predict the species, so we can eliminate it"
   ]
  },
  {
   "cell_type": "code",
   "execution_count": 11,
   "id": "0ac20e9c",
   "metadata": {},
   "outputs": [],
   "source": [
    "pengu2.drop('sex', inplace=True, axis=1)"
   ]
  },
  {
   "cell_type": "code",
   "execution_count": 12,
   "id": "b21c6307",
   "metadata": {},
   "outputs": [
    {
     "data": {
      "text/plain": [
       "island               0\n",
       "culmen_length_mm     2\n",
       "culmen_depth_mm      2\n",
       "flipper_length_mm    2\n",
       "body_mass_g          2\n",
       "species              0\n",
       "dtype: int64"
      ]
     },
     "execution_count": 12,
     "metadata": {},
     "output_type": "execute_result"
    }
   ],
   "source": [
    "pengu2.isnull().sum()"
   ]
  },
  {
   "cell_type": "markdown",
   "id": "71232151",
   "metadata": {},
   "source": [
    "There were missing values that we need to eliminate"
   ]
  },
  {
   "cell_type": "code",
   "execution_count": 13,
   "id": "d9b8834e",
   "metadata": {},
   "outputs": [],
   "source": [
    "#Eliminate missing values by delete the row of the missing values\n",
    "pengu2=pengu2.dropna(subset=['culmen_length_mm'])"
   ]
  },
  {
   "cell_type": "code",
   "execution_count": 14,
   "id": "80003ff9",
   "metadata": {},
   "outputs": [
    {
     "data": {
      "text/plain": [
       "island               0\n",
       "culmen_length_mm     0\n",
       "culmen_depth_mm      0\n",
       "flipper_length_mm    0\n",
       "body_mass_g          0\n",
       "species              0\n",
       "dtype: int64"
      ]
     },
     "execution_count": 14,
     "metadata": {},
     "output_type": "execute_result"
    }
   ],
   "source": [
    "pengu2.isnull().sum()"
   ]
  },
  {
   "cell_type": "code",
   "execution_count": 15,
   "id": "fc83f483",
   "metadata": {},
   "outputs": [
    {
     "data": {
      "text/html": [
       "<div>\n",
       "<style scoped>\n",
       "    .dataframe tbody tr th:only-of-type {\n",
       "        vertical-align: middle;\n",
       "    }\n",
       "\n",
       "    .dataframe tbody tr th {\n",
       "        vertical-align: top;\n",
       "    }\n",
       "\n",
       "    .dataframe thead th {\n",
       "        text-align: right;\n",
       "    }\n",
       "</style>\n",
       "<table border=\"1\" class=\"dataframe\">\n",
       "  <thead>\n",
       "    <tr style=\"text-align: right;\">\n",
       "      <th></th>\n",
       "      <th>island</th>\n",
       "      <th>culmen_length_mm</th>\n",
       "      <th>culmen_depth_mm</th>\n",
       "      <th>flipper_length_mm</th>\n",
       "      <th>body_mass_g</th>\n",
       "      <th>species</th>\n",
       "    </tr>\n",
       "  </thead>\n",
       "  <tbody>\n",
       "    <tr>\n",
       "      <th>count</th>\n",
       "      <td>292.000000</td>\n",
       "      <td>292.000000</td>\n",
       "      <td>292.000000</td>\n",
       "      <td>292.000000</td>\n",
       "      <td>292.000000</td>\n",
       "      <td>292.000000</td>\n",
       "    </tr>\n",
       "    <tr>\n",
       "      <th>mean</th>\n",
       "      <td>0.688356</td>\n",
       "      <td>43.636644</td>\n",
       "      <td>17.243151</td>\n",
       "      <td>199.921233</td>\n",
       "      <td>4162.243151</td>\n",
       "      <td>0.852740</td>\n",
       "    </tr>\n",
       "    <tr>\n",
       "      <th>std</th>\n",
       "      <td>0.738347</td>\n",
       "      <td>5.458698</td>\n",
       "      <td>1.961482</td>\n",
       "      <td>13.651679</td>\n",
       "      <td>785.799341</td>\n",
       "      <td>0.894173</td>\n",
       "    </tr>\n",
       "    <tr>\n",
       "      <th>min</th>\n",
       "      <td>0.000000</td>\n",
       "      <td>32.100000</td>\n",
       "      <td>13.100000</td>\n",
       "      <td>172.000000</td>\n",
       "      <td>2700.000000</td>\n",
       "      <td>0.000000</td>\n",
       "    </tr>\n",
       "    <tr>\n",
       "      <th>25%</th>\n",
       "      <td>0.000000</td>\n",
       "      <td>39.000000</td>\n",
       "      <td>15.675000</td>\n",
       "      <td>190.000000</td>\n",
       "      <td>3550.000000</td>\n",
       "      <td>0.000000</td>\n",
       "    </tr>\n",
       "    <tr>\n",
       "      <th>50%</th>\n",
       "      <td>1.000000</td>\n",
       "      <td>43.350000</td>\n",
       "      <td>17.600000</td>\n",
       "      <td>196.000000</td>\n",
       "      <td>4000.000000</td>\n",
       "      <td>1.000000</td>\n",
       "    </tr>\n",
       "    <tr>\n",
       "      <th>75%</th>\n",
       "      <td>1.000000</td>\n",
       "      <td>48.250000</td>\n",
       "      <td>18.800000</td>\n",
       "      <td>212.000000</td>\n",
       "      <td>4731.250000</td>\n",
       "      <td>2.000000</td>\n",
       "    </tr>\n",
       "    <tr>\n",
       "      <th>max</th>\n",
       "      <td>2.000000</td>\n",
       "      <td>58.000000</td>\n",
       "      <td>21.500000</td>\n",
       "      <td>231.000000</td>\n",
       "      <td>6300.000000</td>\n",
       "      <td>2.000000</td>\n",
       "    </tr>\n",
       "  </tbody>\n",
       "</table>\n",
       "</div>"
      ],
      "text/plain": [
       "           island  culmen_length_mm  culmen_depth_mm  flipper_length_mm  \\\n",
       "count  292.000000        292.000000       292.000000         292.000000   \n",
       "mean     0.688356         43.636644        17.243151         199.921233   \n",
       "std      0.738347          5.458698         1.961482          13.651679   \n",
       "min      0.000000         32.100000        13.100000         172.000000   \n",
       "25%      0.000000         39.000000        15.675000         190.000000   \n",
       "50%      1.000000         43.350000        17.600000         196.000000   \n",
       "75%      1.000000         48.250000        18.800000         212.000000   \n",
       "max      2.000000         58.000000        21.500000         231.000000   \n",
       "\n",
       "       body_mass_g     species  \n",
       "count   292.000000  292.000000  \n",
       "mean   4162.243151    0.852740  \n",
       "std     785.799341    0.894173  \n",
       "min    2700.000000    0.000000  \n",
       "25%    3550.000000    0.000000  \n",
       "50%    4000.000000    1.000000  \n",
       "75%    4731.250000    2.000000  \n",
       "max    6300.000000    2.000000  "
      ]
     },
     "execution_count": 15,
     "metadata": {},
     "output_type": "execute_result"
    }
   ],
   "source": [
    "pengu2.describe()"
   ]
  },
  {
   "cell_type": "code",
   "execution_count": 16,
   "id": "843a6953",
   "metadata": {},
   "outputs": [
    {
     "data": {
      "text/plain": [
       "<matplotlib.legend.Legend at 0x17f077ae8f0>"
      ]
     },
     "execution_count": 16,
     "metadata": {},
     "output_type": "execute_result"
    },
    {
     "data": {
      "image/png": "[encoded data removed]",
      "text/plain": [
       "<Figure size 1000x1000 with 2 Axes>"
      ]
     },
     "metadata": {},
     "output_type": "display_data"
    }
   ],
   "source": [
    "#Data visualization based on islands and species\n",
    "\n",
    "island_ = pengu['island'].value_counts()\n",
    "species_ = pengu['species'].value_counts()\n",
    "\n",
    "fig = plt.figure(figsize=(10, 10))\n",
    "explode = (0.1, 0.05, 0.05)\n",
    "ax1 = fig.add_subplot(2, 2, 1)\n",
    "ax1.pie(island_.values, explode=explode, shadow=True, autopct='%1.1f%%')\n",
    "ax1.set_title(\"Total penguins by island\")\n",
    "ax1.legend(island_.keys(), title =\"islands\")\n",
    "\n",
    "ax2 = fig.add_subplot(2, 2, 2)\n",
    "ax2.pie(species_.values, explode=explode, shadow=True, autopct='%1.1f%%')\n",
    "ax2.set_title(\"Total penguins by species\")\n",
    "ax2.legend(species_.keys(), title =\"Species\")"
   ]
  },
  {
   "cell_type": "markdown",
   "id": "7b98d41d",
   "metadata": {},
   "source": [
    "Almost half of the penguins were in Biscoe island and were _Adelie sp._"
   ]
  },
  {
   "cell_type": "code",
   "execution_count": 17,
   "id": "493a53c7",
   "metadata": {},
   "outputs": [],
   "source": [
    "x=pengu2.drop('species', axis=1)\n",
    "y=pengu2['species'].copy()"
   ]
  },
  {
   "cell_type": "markdown",
   "id": "e00f74fa",
   "metadata": {},
   "source": [
    "## Step 3: Split the Data"
   ]
  },
  {
   "cell_type": "code",
   "execution_count": 18,
   "id": "c4b8050a",
   "metadata": {},
   "outputs": [
    {
     "data": {
      "text/plain": [
       "((204, 5), (88, 5))"
      ]
     },
     "execution_count": 18,
     "metadata": {},
     "output_type": "execute_result"
    }
   ],
   "source": [
    "from sklearn.model_selection import train_test_split\n",
    "x_train, x_test, y_train, y_test = train_test_split(x, y, test_size=0.3, \n",
    "                                                    random_state=0)\n",
    "x_train.shape, x_test.shape"
   ]
  },
  {
   "cell_type": "markdown",
   "id": "e4a697a0",
   "metadata": {},
   "source": [
    "## Step 4: Build and train the model"
   ]
  },
  {
   "cell_type": "markdown",
   "id": "e4cd4906",
   "metadata": {},
   "source": [
    "### Naive Baiyes "
   ]
  },
  {
   "cell_type": "code",
   "execution_count": 19,
   "id": "982876b6",
   "metadata": {},
   "outputs": [],
   "source": [
    "from sklearn.naive_bayes import BernoulliNB\n",
    "model_nb = BernoulliNB()\n",
    "model_nb.fit(x_train, y_train);\n",
    "nb_train_pred = model_nb.predict(x_train)"
   ]
  },
  {
   "cell_type": "code",
   "execution_count": 20,
   "id": "6278917c",
   "metadata": {},
   "outputs": [
    {
     "name": "stdout",
     "output_type": "stream",
     "text": [
      "Train Accuracy: 68.14 %\n"
     ]
    }
   ],
   "source": [
    "# Check the Accuracy\n",
    "from sklearn.metrics import accuracy_score\n",
    "nb_train_acc = accuracy_score(y_train, nb_train_pred)\n",
    "print('Train Accuracy:', round(nb_train_acc*100,2),'%')"
   ]
  },
  {
   "cell_type": "code",
   "execution_count": 21,
   "id": "da0b82b9",
   "metadata": {},
   "outputs": [
    {
     "data": {
      "text/plain": [
       "<sklearn.metrics._plot.confusion_matrix.ConfusionMatrixDisplay at 0x17f09ca3790>"
      ]
     },
     "execution_count": 21,
     "metadata": {},
     "output_type": "execute_result"
    },
    {
     "data": {
      "image/png": "[encoded data removed]",
      "text/plain": [
       "<Figure size 640x480 with 2 Axes>"
      ]
     },
     "metadata": {},
     "output_type": "display_data"
    }
   ],
   "source": [
    "# Get the confusion matrix\n",
    "from sklearn.metrics import (confusion_matrix, ConfusionMatrixDisplay)\n",
    "labels = ['Adelie', 'Gentoo','Chinstrap']\n",
    "cm_train_nb = confusion_matrix(y_train,nb_train_pred)\n",
    "disp = ConfusionMatrixDisplay(confusion_matrix=cm_train_nb,\n",
    "display_labels=labels)\n",
    "disp.plot()"
   ]
  },
  {
   "cell_type": "code",
   "execution_count": 22,
   "id": "14f9d984",
   "metadata": {},
   "outputs": [
    {
     "name": "stdout",
     "output_type": "stream",
     "text": [
      "              precision    recall  f1-score   support\n",
      "\n",
      "      Adelie       0.67      0.68      0.68       100\n",
      "      Gentoo       0.00      0.00      0.00        33\n",
      "   Chinstrap       0.69      1.00      0.82        71\n",
      "\n",
      "    accuracy                           0.68       204\n",
      "   macro avg       0.45      0.56      0.50       204\n",
      "weighted avg       0.57      0.68      0.62       204\n",
      "\n"
     ]
    }
   ],
   "source": [
    "# Get the classification Report\n",
    "import warnings\n",
    "warnings.filterwarnings('ignore')\n",
    "\n",
    "from sklearn.metrics import classification_report\n",
    "print(classification_report(y_train, nb_train_pred,\n",
    "target_names=labels))"
   ]
  },
  {
   "cell_type": "markdown",
   "id": "84307ee0",
   "metadata": {},
   "source": [
    "### K-NearestNeighbors (KNN)"
   ]
  },
  {
   "cell_type": "code",
   "execution_count": 23,
   "id": "5e4e9a08",
   "metadata": {},
   "outputs": [],
   "source": [
    "from sklearn.neighbors import KNeighborsClassifier\n",
    "\n",
    "training_accuracy = []\n",
    "test_accuracy = []\n",
    "parameter = []\n",
    "\n",
    "k = range(1, 5)\n",
    "metric = ['euclidean', 'manhattan', 'minkowski']\n",
    "\n",
    "for n_k in k:\n",
    "    for n_m in metric:\n",
    "        clf = KNeighborsClassifier(n_neighbors=n_k, metric=n_m)\n",
    "        clf.fit(x_train, y_train)\n",
    "        training_accuracy.append(clf.score(x_train, y_train))\n",
    "        test_accuracy.append(clf.score(x_test, y_test))\n",
    "        parameter.append({'n_neighbors': n_k, 'metric': n_m})"
   ]
  },
  {
   "cell_type": "code",
   "execution_count": 24,
   "id": "644d997d",
   "metadata": {},
   "outputs": [
    {
     "data": {
      "text/html": [
       "<div>\n",
       "<style scoped>\n",
       "    .dataframe tbody tr th:only-of-type {\n",
       "        vertical-align: middle;\n",
       "    }\n",
       "\n",
       "    .dataframe tbody tr th {\n",
       "        vertical-align: top;\n",
       "    }\n",
       "\n",
       "    .dataframe thead th {\n",
       "        text-align: right;\n",
       "    }\n",
       "</style>\n",
       "<table border=\"1\" class=\"dataframe\">\n",
       "  <thead>\n",
       "    <tr style=\"text-align: right;\">\n",
       "      <th></th>\n",
       "      <th>n_neighbors</th>\n",
       "      <th>metric</th>\n",
       "      <th>training_accuracy</th>\n",
       "      <th>test_accuracy</th>\n",
       "    </tr>\n",
       "  </thead>\n",
       "  <tbody>\n",
       "    <tr>\n",
       "      <th>0</th>\n",
       "      <td>1</td>\n",
       "      <td>euclidean</td>\n",
       "      <td>1.000000</td>\n",
       "      <td>0.750000</td>\n",
       "    </tr>\n",
       "    <tr>\n",
       "      <th>1</th>\n",
       "      <td>1</td>\n",
       "      <td>manhattan</td>\n",
       "      <td>1.000000</td>\n",
       "      <td>0.761364</td>\n",
       "    </tr>\n",
       "    <tr>\n",
       "      <th>2</th>\n",
       "      <td>1</td>\n",
       "      <td>minkowski</td>\n",
       "      <td>1.000000</td>\n",
       "      <td>0.750000</td>\n",
       "    </tr>\n",
       "    <tr>\n",
       "      <th>3</th>\n",
       "      <td>2</td>\n",
       "      <td>euclidean</td>\n",
       "      <td>0.887255</td>\n",
       "      <td>0.761364</td>\n",
       "    </tr>\n",
       "    <tr>\n",
       "      <th>4</th>\n",
       "      <td>2</td>\n",
       "      <td>manhattan</td>\n",
       "      <td>0.887255</td>\n",
       "      <td>0.750000</td>\n",
       "    </tr>\n",
       "    <tr>\n",
       "      <th>5</th>\n",
       "      <td>2</td>\n",
       "      <td>minkowski</td>\n",
       "      <td>0.887255</td>\n",
       "      <td>0.761364</td>\n",
       "    </tr>\n",
       "    <tr>\n",
       "      <th>6</th>\n",
       "      <td>3</td>\n",
       "      <td>euclidean</td>\n",
       "      <td>0.867647</td>\n",
       "      <td>0.738636</td>\n",
       "    </tr>\n",
       "    <tr>\n",
       "      <th>7</th>\n",
       "      <td>3</td>\n",
       "      <td>manhattan</td>\n",
       "      <td>0.872549</td>\n",
       "      <td>0.750000</td>\n",
       "    </tr>\n",
       "    <tr>\n",
       "      <th>8</th>\n",
       "      <td>3</td>\n",
       "      <td>minkowski</td>\n",
       "      <td>0.867647</td>\n",
       "      <td>0.738636</td>\n",
       "    </tr>\n",
       "    <tr>\n",
       "      <th>9</th>\n",
       "      <td>4</td>\n",
       "      <td>euclidean</td>\n",
       "      <td>0.848039</td>\n",
       "      <td>0.738636</td>\n",
       "    </tr>\n",
       "    <tr>\n",
       "      <th>10</th>\n",
       "      <td>4</td>\n",
       "      <td>manhattan</td>\n",
       "      <td>0.843137</td>\n",
       "      <td>0.727273</td>\n",
       "    </tr>\n",
       "    <tr>\n",
       "      <th>11</th>\n",
       "      <td>4</td>\n",
       "      <td>minkowski</td>\n",
       "      <td>0.848039</td>\n",
       "      <td>0.738636</td>\n",
       "    </tr>\n",
       "  </tbody>\n",
       "</table>\n",
       "</div>"
      ],
      "text/plain": [
       "    n_neighbors     metric  training_accuracy  test_accuracy\n",
       "0             1  euclidean           1.000000       0.750000\n",
       "1             1  manhattan           1.000000       0.761364\n",
       "2             1  minkowski           1.000000       0.750000\n",
       "3             2  euclidean           0.887255       0.761364\n",
       "4             2  manhattan           0.887255       0.750000\n",
       "5             2  minkowski           0.887255       0.761364\n",
       "6             3  euclidean           0.867647       0.738636\n",
       "7             3  manhattan           0.872549       0.750000\n",
       "8             3  minkowski           0.867647       0.738636\n",
       "9             4  euclidean           0.848039       0.738636\n",
       "10            4  manhattan           0.843137       0.727273\n",
       "11            4  minkowski           0.848039       0.738636"
      ]
     },
     "execution_count": 24,
     "metadata": {},
     "output_type": "execute_result"
    }
   ],
   "source": [
    "data_accuracy = pd.DataFrame.from_dict(parameter)\n",
    "data_accuracy['training_accuracy'] = training_accuracy\n",
    "data_accuracy['test_accuracy'] = test_accuracy\n",
    "data_accuracy"
   ]
  },
  {
   "cell_type": "code",
   "execution_count": 25,
   "id": "5f47c1e9",
   "metadata": {},
   "outputs": [
    {
     "data": {
      "image/png": "[encoded data removed]",
      "text/plain": [
       "<Figure size 1000x1000 with 2 Axes>"
      ]
     },
     "metadata": {},
     "output_type": "display_data"
    }
   ],
   "source": [
    "fig, axes = plt.subplots(2, 1, figsize=(10,10), sharey=True)\n",
    "\n",
    "data_accuracy.set_index('n_neighbors', inplace=True)\n",
    "\n",
    "data_accuracy.groupby('metric')['training_accuracy'].plot(legend=True, \n",
    "                                                          ax=axes[0])\n",
    "axes[0].set_title('Training Accuracy')\n",
    "\n",
    "data_accuracy.groupby('metric')['test_accuracy'].plot(legend=True, \n",
    "                                                      ax=axes[1])\n",
    "axes[1].set_title('Test Accuracy')\n",
    "plt.show()\n"
   ]
  },
  {
   "cell_type": "code",
   "execution_count": 26,
   "id": "5aa71d47",
   "metadata": {},
   "outputs": [
    {
     "name": "stdout",
     "output_type": "stream",
     "text": [
      "Train Accuracy: 84.8 %\n"
     ]
    }
   ],
   "source": [
    "# Check The accuracy\n",
    "\n",
    "#Model with best parameter\n",
    "knn_best_model = KNeighborsClassifier(n_neighbors=4, metric='minkowski')\n",
    "knn_best_model.fit(x_train, y_train)\n",
    "\n",
    "#Predict for train set\n",
    "knn_train_best_pred = knn_best_model.predict(x_train)\n",
    "knn_best_train_acc = accuracy_score(y_train, knn_train_best_pred)\n",
    "print('Train Accuracy:', round(knn_best_train_acc*100,2),'%')"
   ]
  },
  {
   "cell_type": "code",
   "execution_count": 27,
   "id": "a02d7d1b",
   "metadata": {},
   "outputs": [
    {
     "data": {
      "text/plain": [
       "<sklearn.metrics._plot.confusion_matrix.ConfusionMatrixDisplay at 0x17f09b55e70>"
      ]
     },
     "execution_count": 27,
     "metadata": {},
     "output_type": "execute_result"
    },
    {
     "data": {
      "image/png": "[encoded data removed]",
      "text/plain": [
       "<Figure size 640x480 with 2 Axes>"
      ]
     },
     "metadata": {},
     "output_type": "display_data"
    }
   ],
   "source": [
    "# Get the confusion Matrix\n",
    "\n",
    "cm_knn_train_best = confusion_matrix(y_train, knn_train_best_pred)\n",
    "disp = ConfusionMatrixDisplay(confusion_matrix=cm_knn_train_best,\n",
    "display_labels=labels)\n",
    "disp.plot()"
   ]
  },
  {
   "cell_type": "code",
   "execution_count": 28,
   "id": "50c5b18d",
   "metadata": {},
   "outputs": [
    {
     "name": "stdout",
     "output_type": "stream",
     "text": [
      "              precision    recall  f1-score   support\n",
      "\n",
      "      Adelie       0.80      0.96      0.87       100\n",
      "      Gentoo       0.86      0.36      0.51        33\n",
      "   Chinstrap       0.93      0.92      0.92        71\n",
      "\n",
      "    accuracy                           0.85       204\n",
      "   macro avg       0.86      0.75      0.77       204\n",
      "weighted avg       0.85      0.85      0.83       204\n",
      "\n"
     ]
    }
   ],
   "source": [
    "# Classification Report for KNN\n",
    "\n",
    "print(classification_report(y_train, knn_train_best_pred,\n",
    "target_names=labels))"
   ]
  },
  {
   "cell_type": "markdown",
   "id": "c2a46e1b",
   "metadata": {},
   "source": [
    "We see that **KNN give the best model** than Naive Baiyes to predict the species of penguins with have highest train accuracy. So, we use the **KNN model**"
   ]
  },
  {
   "cell_type": "markdown",
   "id": "d173b064",
   "metadata": {},
   "source": [
    "## Step 5:  Test and evaluate the model"
   ]
  },
  {
   "cell_type": "markdown",
   "id": "69dc1a65",
   "metadata": {},
   "source": [
    "### Naive Baiyes"
   ]
  },
  {
   "cell_type": "code",
   "execution_count": 29,
   "id": "cd4b7a14",
   "metadata": {},
   "outputs": [
    {
     "name": "stdout",
     "output_type": "stream",
     "text": [
      "Test Accuracy: 67.05 %\n"
     ]
    }
   ],
   "source": [
    "# Check the Accuracy\n",
    "from sklearn.metrics import accuracy_score\n",
    "\n",
    "nb_test_pred = model_nb.predict(x_test)\n",
    "nb_test_acc = accuracy_score(y_test, nb_test_pred)\n",
    "print('Test Accuracy:', round(nb_test_acc*100,2),'%')"
   ]
  },
  {
   "cell_type": "code",
   "execution_count": 30,
   "id": "cc9e82d4",
   "metadata": {},
   "outputs": [
    {
     "data": {
      "text/plain": [
       "<sklearn.metrics._plot.confusion_matrix.ConfusionMatrixDisplay at 0x17f09b56200>"
      ]
     },
     "execution_count": 30,
     "metadata": {},
     "output_type": "execute_result"
    },
    {
     "data": {
      "image/png": "[encoded data removed]",
      "text/plain": [
       "<Figure size 640x480 with 2 Axes>"
      ]
     },
     "metadata": {},
     "output_type": "display_data"
    }
   ],
   "source": [
    "#Confusion Matrix\n",
    "\n",
    "cm_test_nb = confusion_matrix(y_test,nb_test_pred)\n",
    "disp = ConfusionMatrixDisplay(confusion_matrix=cm_test_nb,\n",
    "display_labels=labels)\n",
    "disp.plot()"
   ]
  },
  {
   "cell_type": "code",
   "execution_count": 31,
   "id": "7d972b49",
   "metadata": {},
   "outputs": [
    {
     "name": "stdout",
     "output_type": "stream",
     "text": [
      "              precision    recall  f1-score   support\n",
      "\n",
      "      Adelie       0.62      0.78      0.69        41\n",
      "      Gentoo       0.00      0.00      0.00        20\n",
      "   Chinstrap       0.75      1.00      0.86        27\n",
      "\n",
      "    accuracy                           0.67        88\n",
      "   macro avg       0.46      0.59      0.52        88\n",
      "weighted avg       0.52      0.67      0.58        88\n",
      "\n"
     ]
    }
   ],
   "source": [
    "# Classification Report\n",
    "print(classification_report(y_test, nb_test_pred,\n",
    "target_names=labels))"
   ]
  },
  {
   "cell_type": "markdown",
   "id": "caea2ee3",
   "metadata": {},
   "source": [
    "### K-Nearest Neighbors (KNN)"
   ]
  },
  {
   "cell_type": "code",
   "execution_count": 32,
   "id": "859f820c",
   "metadata": {},
   "outputs": [
    {
     "name": "stdout",
     "output_type": "stream",
     "text": [
      "Test Accuracy: 73.86 %\n"
     ]
    }
   ],
   "source": [
    "#Predict for test set\n",
    "\n",
    "knn_test_best_pred = knn_best_model.predict(x_test)\n",
    "knn_best_test_acc = accuracy_score(y_test, knn_test_best_pred)\n",
    "print('Test Accuracy:', round(knn_best_test_acc*100,2),'%')"
   ]
  },
  {
   "cell_type": "code",
   "execution_count": 33,
   "id": "62dcb411",
   "metadata": {},
   "outputs": [
    {
     "data": {
      "text/plain": [
       "<sklearn.metrics._plot.confusion_matrix.ConfusionMatrixDisplay at 0x17f0695f250>"
      ]
     },
     "execution_count": 33,
     "metadata": {},
     "output_type": "execute_result"
    },
    {
     "data": {
      "image/png": "[encoded data removed]",
      "text/plain": [
       "<Figure size 640x480 with 2 Axes>"
      ]
     },
     "metadata": {},
     "output_type": "display_data"
    }
   ],
   "source": [
    "# Confusion Matrix\n",
    "cm_knn_test_best = confusion_matrix(y_test, knn_test_best_pred)\n",
    "disp = ConfusionMatrixDisplay(confusion_matrix=cm_knn_test_best,\n",
    "                              display_labels=labels)\n",
    "disp.plot()"
   ]
  },
  {
   "cell_type": "code",
   "execution_count": 34,
   "id": "71c12592",
   "metadata": {},
   "outputs": [
    {
     "name": "stdout",
     "output_type": "stream",
     "text": [
      "              precision    recall  f1-score   support\n",
      "\n",
      "      Adelie       0.66      0.95      0.78        41\n",
      "      Gentoo       0.83      0.25      0.38        20\n",
      "   Chinstrap       0.91      0.78      0.84        27\n",
      "\n",
      "    accuracy                           0.74        88\n",
      "   macro avg       0.80      0.66      0.67        88\n",
      "weighted avg       0.78      0.74      0.71        88\n",
      "\n"
     ]
    }
   ],
   "source": [
    "# Classification Report\n",
    "print(classification_report(y_test, knn_test_best_pred,\n",
    "target_names=labels))"
   ]
  },
  {
   "cell_type": "code",
   "execution_count": 35,
   "id": "0ec76d1e",
   "metadata": {},
   "outputs": [
    {
     "data": {
      "image/png": "[encoded data removed]",
      "text/plain": [
       "<Figure size 640x480 with 1 Axes>"
      ]
     },
     "metadata": {},
     "output_type": "display_data"
    }
   ],
   "source": [
    "#Define data\n",
    "data_accuracy = {'Train Accuracy': [nb_train_acc*100,knn_best_train_acc*100],\n",
    "                 'Test Accuracy': [nb_test_acc*100,knn_best_test_acc*100]}\n",
    "\n",
    "df_data_accuracy = pd.DataFrame(data_accuracy,columns=['Train Accuracy',\n",
    "'Test Accuracy'],\n",
    "index = ['Naive Baiyes','KNN'])\n",
    "\n",
    "#Plot data\n",
    "df_data_accuracy.plot.bar(rot=0)\n",
    "plt.legend(bbox_to_anchor=(1.02, 0), loc='lower left', borderaxespad=0)\n",
    "plt.title('Accuracy - Train vs Test')\n",
    "plt.ylabel('Percentage (%)')\n",
    "plt.show()"
   ]
  },
  {
   "cell_type": "markdown",
   "id": "53745bce",
   "metadata": {},
   "source": [
    "We see **KNN is the best model** than Naive Baiyes to predict the species of penguins with the highest accuracy. So, we use **KNN model**"
   ]
  },
  {
   "cell_type": "markdown",
   "id": "ba753ffb",
   "metadata": {},
   "source": [
    "## Step 6: Deploy the model"
   ]
  },
  {
   "cell_type": "code",
   "execution_count": 36,
   "id": "b8df5a8d",
   "metadata": {},
   "outputs": [
    {
     "data": {
      "text/plain": [
       "(50, 5)"
      ]
     },
     "execution_count": 36,
     "metadata": {},
     "output_type": "execute_result"
    }
   ],
   "source": [
    "pengu_test=pd.read_csv('penguin_predictions.csv')\n",
    "pengu_test2=pd.read_csv('penguin_predictions.csv')\n",
    "\n",
    "pengu_test.drop('sex', inplace=True, axis=1)\n",
    "pengu_test.shape"
   ]
  },
  {
   "cell_type": "code",
   "execution_count": 37,
   "id": "ce026e49",
   "metadata": {},
   "outputs": [],
   "source": [
    "#Handle the categorical data\n",
    "feature_cat2=pengu_test[\"island\"]\n",
    "reshape=np.array(feature_cat2).reshape(-1,1)\n",
    "\n",
    "from sklearn.preprocessing import OrdinalEncoder\n",
    "ord_encoder=OrdinalEncoder()\n",
    "feature_encoded2=ord_encoder.fit_transform(reshape)\n",
    "\n",
    "pengu_test[\"island\"] = feature_encoded2"
   ]
  },
  {
   "cell_type": "code",
   "execution_count": 38,
   "id": "4621550e",
   "metadata": {},
   "outputs": [
    {
     "data": {
      "text/html": [
       "<div>\n",
       "<style scoped>\n",
       "    .dataframe tbody tr th:only-of-type {\n",
       "        vertical-align: middle;\n",
       "    }\n",
       "\n",
       "    .dataframe tbody tr th {\n",
       "        vertical-align: top;\n",
       "    }\n",
       "\n",
       "    .dataframe thead th {\n",
       "        text-align: right;\n",
       "    }\n",
       "</style>\n",
       "<table border=\"1\" class=\"dataframe\">\n",
       "  <thead>\n",
       "    <tr style=\"text-align: right;\">\n",
       "      <th></th>\n",
       "      <th>island</th>\n",
       "      <th>culmen_length_mm</th>\n",
       "      <th>culmen_depth_mm</th>\n",
       "      <th>flipper_length_mm</th>\n",
       "      <th>body_mass_g</th>\n",
       "    </tr>\n",
       "  </thead>\n",
       "  <tbody>\n",
       "    <tr>\n",
       "      <th>0</th>\n",
       "      <td>1.0</td>\n",
       "      <td>36.0</td>\n",
       "      <td>17.1</td>\n",
       "      <td>187</td>\n",
       "      <td>3700</td>\n",
       "    </tr>\n",
       "    <tr>\n",
       "      <th>1</th>\n",
       "      <td>1.0</td>\n",
       "      <td>34.0</td>\n",
       "      <td>17.1</td>\n",
       "      <td>185</td>\n",
       "      <td>3400</td>\n",
       "    </tr>\n",
       "    <tr>\n",
       "      <th>2</th>\n",
       "      <td>1.0</td>\n",
       "      <td>46.7</td>\n",
       "      <td>17.9</td>\n",
       "      <td>195</td>\n",
       "      <td>3300</td>\n",
       "    </tr>\n",
       "    <tr>\n",
       "      <th>3</th>\n",
       "      <td>1.0</td>\n",
       "      <td>46.5</td>\n",
       "      <td>17.9</td>\n",
       "      <td>192</td>\n",
       "      <td>3500</td>\n",
       "    </tr>\n",
       "    <tr>\n",
       "      <th>4</th>\n",
       "      <td>0.0</td>\n",
       "      <td>43.3</td>\n",
       "      <td>13.4</td>\n",
       "      <td>209</td>\n",
       "      <td>4400</td>\n",
       "    </tr>\n",
       "  </tbody>\n",
       "</table>\n",
       "</div>"
      ],
      "text/plain": [
       "   island  culmen_length_mm  culmen_depth_mm  flipper_length_mm  body_mass_g\n",
       "0     1.0              36.0             17.1                187         3700\n",
       "1     1.0              34.0             17.1                185         3400\n",
       "2     1.0              46.7             17.9                195         3300\n",
       "3     1.0              46.5             17.9                192         3500\n",
       "4     0.0              43.3             13.4                209         4400"
      ]
     },
     "execution_count": 38,
     "metadata": {},
     "output_type": "execute_result"
    }
   ],
   "source": [
    "pengu_test.head()"
   ]
  },
  {
   "cell_type": "code",
   "execution_count": 39,
   "id": "2e5acf3c",
   "metadata": {},
   "outputs": [],
   "source": [
    "# Prediction using KNN model\n",
    "knn_pengu_pred = knn_best_model.predict(pengu_test)"
   ]
  },
  {
   "cell_type": "code",
   "execution_count": 40,
   "id": "21f2de9e",
   "metadata": {
    "scrolled": true
   },
   "outputs": [
    {
     "data": {
      "text/html": [
       "<div>\n",
       "<style scoped>\n",
       "    .dataframe tbody tr th:only-of-type {\n",
       "        vertical-align: middle;\n",
       "    }\n",
       "\n",
       "    .dataframe tbody tr th {\n",
       "        vertical-align: top;\n",
       "    }\n",
       "\n",
       "    .dataframe thead th {\n",
       "        text-align: right;\n",
       "    }\n",
       "</style>\n",
       "<table border=\"1\" class=\"dataframe\">\n",
       "  <thead>\n",
       "    <tr style=\"text-align: right;\">\n",
       "      <th></th>\n",
       "      <th>island</th>\n",
       "      <th>sex</th>\n",
       "      <th>culmen_length_mm</th>\n",
       "      <th>culmen_depth_mm</th>\n",
       "      <th>flipper_length_mm</th>\n",
       "      <th>body_mass_g</th>\n",
       "      <th>Species predicted</th>\n",
       "    </tr>\n",
       "  </thead>\n",
       "  <tbody>\n",
       "    <tr>\n",
       "      <th>0</th>\n",
       "      <td>Dream</td>\n",
       "      <td>FEMALE</td>\n",
       "      <td>36.0</td>\n",
       "      <td>17.1</td>\n",
       "      <td>187</td>\n",
       "      <td>3700</td>\n",
       "      <td>0.0</td>\n",
       "    </tr>\n",
       "    <tr>\n",
       "      <th>1</th>\n",
       "      <td>Dream</td>\n",
       "      <td>FEMALE</td>\n",
       "      <td>34.0</td>\n",
       "      <td>17.1</td>\n",
       "      <td>185</td>\n",
       "      <td>3400</td>\n",
       "      <td>0.0</td>\n",
       "    </tr>\n",
       "    <tr>\n",
       "      <th>2</th>\n",
       "      <td>Dream</td>\n",
       "      <td>FEMALE</td>\n",
       "      <td>46.7</td>\n",
       "      <td>17.9</td>\n",
       "      <td>195</td>\n",
       "      <td>3300</td>\n",
       "      <td>0.0</td>\n",
       "    </tr>\n",
       "    <tr>\n",
       "      <th>3</th>\n",
       "      <td>Dream</td>\n",
       "      <td>FEMALE</td>\n",
       "      <td>46.5</td>\n",
       "      <td>17.9</td>\n",
       "      <td>192</td>\n",
       "      <td>3500</td>\n",
       "      <td>0.0</td>\n",
       "    </tr>\n",
       "    <tr>\n",
       "      <th>4</th>\n",
       "      <td>Biscoe</td>\n",
       "      <td>FEMALE</td>\n",
       "      <td>43.3</td>\n",
       "      <td>13.4</td>\n",
       "      <td>209</td>\n",
       "      <td>4400</td>\n",
       "      <td>0.0</td>\n",
       "    </tr>\n",
       "  </tbody>\n",
       "</table>\n",
       "</div>"
      ],
      "text/plain": [
       "   island     sex  culmen_length_mm  culmen_depth_mm  flipper_length_mm  \\\n",
       "0   Dream  FEMALE              36.0             17.1                187   \n",
       "1   Dream  FEMALE              34.0             17.1                185   \n",
       "2   Dream  FEMALE              46.7             17.9                195   \n",
       "3   Dream  FEMALE              46.5             17.9                192   \n",
       "4  Biscoe  FEMALE              43.3             13.4                209   \n",
       "\n",
       "   body_mass_g  Species predicted  \n",
       "0         3700                0.0  \n",
       "1         3400                0.0  \n",
       "2         3300                0.0  \n",
       "3         3500                0.0  \n",
       "4         4400                0.0  "
      ]
     },
     "execution_count": 40,
     "metadata": {},
     "output_type": "execute_result"
    }
   ],
   "source": [
    "pengu_test2['Species predicted']=knn_pengu_pred\n",
    "pengu_test2.head()"
   ]
  },
  {
   "cell_type": "markdown",
   "id": "0d38fb5a",
   "metadata": {},
   "source": [
    "**Species were predicted following the encoded labes:  \n",
    "0 = _Adelie sp._  \n",
    "1 = _Gentoo sp._  \n",
    "2 = _Chinstrap sp._**"
   ]
  },
  {
   "cell_type": "code",
   "execution_count": 41,
   "id": "a5e47de9",
   "metadata": {},
   "outputs": [],
   "source": [
    "pengu_test2.to_csv(\" S65527_penguin_prediction_exercise4.csv\",index=False)"
   ]
  }
 ],
 "metadata": {
  "kernelspec": {
   "display_name": "Python 3 (ipykernel)",
   "language": "python",
   "name": "python3"
  },
  "language_info": {
   "codemirror_mode": {
    "name": "ipython",
    "version": 3
   },
   "file_extension": ".py",
   "mimetype": "text/x-python",
   "name": "python",
   "nbconvert_exporter": "python",
   "pygments_lexer": "ipython3",
   "version": "3.10.8"
  }
 },
 "nbformat": 4,
 "nbformat_minor": 5
}
